{
  "nbformat": 4,
  "nbformat_minor": 0,
  "metadata": {
    "colab": {
      "name": "Car_dammage_classification.ipynb",
      "provenance": [],
      "collapsed_sections": []
    },
    "kernelspec": {
      "name": "python3",
      "display_name": "Python 3"
    },
    "accelerator": "GPU"
  },
  "cells": [
    {
      "cell_type": "code",
      "metadata": {
        "id": "jRv_DztNZpQL",
        "colab_type": "code",
        "colab": {}
      },
      "source": [
        "#do import \n",
        "import tensorflow as tf \n",
        "import numpy as np\n",
        "import os \n",
        "from tensorflow import keras"
      ],
      "execution_count": 0,
      "outputs": []
    },
    {
      "cell_type": "markdown",
      "metadata": {
        "id": "HpbtpKH7apdC",
        "colab_type": "text"
      },
      "source": [
        "I . First model: binary classification dammage or not"
      ]
    },
    {
      "cell_type": "code",
      "metadata": {
        "id": "wnwJ3biNjZoe",
        "colab_type": "code",
        "colab": {}
      },
      "source": [
        "from keras.preprocessing.image import ImageDataGenerator, array_to_img, img_to_array, load_img\n",
        "\n",
        "datagen = ImageDataGenerator(\n",
        "        rotation_range=40,\n",
        "        width_shift_range=0.2,\n",
        "        height_shift_range=0.2,\n",
        "        rescale=1./255,\n",
        "        shear_range=0.2,\n",
        "        zoom_range=0.2,\n",
        "        horizontal_flip=True,\n",
        "        fill_mode='nearest')\n"
      ],
      "execution_count": 0,
      "outputs": []
    },
    {
      "cell_type": "code",
      "metadata": {
        "id": "JV2F-dn8fSHT",
        "colab_type": "code",
        "outputId": "9acb0a45-436c-4219-b527-b2c299231dc3",
        "colab": {
          "base_uri": "https://localhost:8080/",
          "height": 34
        }
      },
      "source": [
        "pwd"
      ],
      "execution_count": 0,
      "outputs": [
        {
          "output_type": "execute_result",
          "data": {
            "text/plain": [
              "'/content'"
            ]
          },
          "metadata": {
            "tags": []
          },
          "execution_count": 29
        }
      ]
    },
    {
      "cell_type": "code",
      "metadata": {
        "id": "Tm89iSYiDctD",
        "colab_type": "code",
        "colab": {}
      },
      "source": [
        "preview = '/content/drive/My Drive/Final_Project/data1a/training/whole/'"
      ],
      "execution_count": 0,
      "outputs": []
    },
    {
      "cell_type": "code",
      "metadata": {
        "id": "5FhsKGjM8_0M",
        "colab_type": "code",
        "outputId": "8e109e7a-6353-4d5b-d440-a7be203bb654",
        "colab": {
          "base_uri": "https://localhost:8080/",
          "height": 54
        }
      },
      "source": [
        "\"\"\"\n",
        "img = load_img('/content/drive/My Drive/Final_Project/data1a/training/whole/0015.jpg')\n",
        "x =img_to_array(img)\n",
        "x = x.reshape((1,) + x.shape)\n",
        "i=0\n",
        "for batch in datagen.flow(x, batch_size=1\n",
        "                            ,save_to_dir=preview, save_prefix='000', save_format='jpg'):\n",
        "    \n",
        "  i+=1\n",
        "  if i >20:\n",
        "    break\"\"\""
      ],
      "execution_count": 0,
      "outputs": [
        {
          "output_type": "execute_result",
          "data": {
            "text/plain": [
              "\"\\nimg = load_img('/content/drive/My Drive/Final_Project/data1a/training/whole/0015.jpg')\\nx =img_to_array(img)\\nx = x.reshape((1,) + x.shape)\\ni=0\\nfor batch in datagen.flow(x, batch_size=1\\n                            ,save_to_dir=preview, save_prefix='000', save_format='jpg'):\\n    \\n  i+=1\\n  if i >20:\\n    break\""
            ]
          },
          "metadata": {
            "tags": []
          },
          "execution_count": 31
        }
      ]
    },
    {
      "cell_type": "code",
      "metadata": {
        "id": "1alq_wlHBKsG",
        "colab_type": "code",
        "colab": {}
      },
      "source": [
        "# Load data from differents folder "
      ],
      "execution_count": 0,
      "outputs": []
    },
    {
      "cell_type": "code",
      "metadata": {
        "id": "ghkinE_qNQF2",
        "colab_type": "code",
        "colab": {}
      },
      "source": [
        "def load_dataset():\n",
        "  batch_size = 16\n",
        "  #train augmantation we will use for training\n",
        "  train_datagen= ImageDataGenerator(\n",
        "      rescale= 1/255,\n",
        "      shear_range = 0.2,\n",
        "      zoom_range = 0.2,\n",
        "      horizontal_flip  =True\n",
        "  )\n",
        "  # test augmentation\n",
        "  test_datagen = ImageDataGenerator(rescale=1/255)\n",
        "\n",
        "  #generator we will used for reading founded pictures in our train folder\n",
        "  train_generator = train_datagen.flow_from_directory(\n",
        "      '/content/drive/My Drive/Final_Project/dataset2/training/',\n",
        "      target_size=(150,150),\n",
        "      batch_size= batch_size,\n",
        "      class_mode= 'binary')\n",
        "  \n",
        "  test_generator = test_datagen.flow_from_directory(\n",
        "      '/content/drive/My Drive/Final_Project/dataset2/validation/',\n",
        "      target_size= (150,150),\n",
        "      batch_size=batch_size,\n",
        "      class_mode='binary')\n",
        "  \n",
        "  return train_generator, test_generator\n",
        "\n",
        "\n"
      ],
      "execution_count": 0,
      "outputs": []
    },
    {
      "cell_type": "code",
      "metadata": {
        "id": "S_CNTpYgWmRZ",
        "colab_type": "code",
        "outputId": "33f5b53c-c6fd-41e8-d906-0720e5bc6376",
        "colab": {
          "base_uri": "https://localhost:8080/",
          "height": 51
        }
      },
      "source": [
        "train , test = load_dataset()"
      ],
      "execution_count": 0,
      "outputs": [
        {
          "output_type": "stream",
          "text": [
            "Found 3133 images belonging to 2 classes.\n",
            "Found 1884 images belonging to 2 classes.\n"
          ],
          "name": "stdout"
        }
      ]
    },
    {
      "cell_type": "code",
      "metadata": {
        "id": "XufVQ_4BWvJR",
        "colab_type": "code",
        "outputId": "2d9ab525-c023-4db6-e195-257b8249d2e1",
        "colab": {
          "base_uri": "https://localhost:8080/",
          "height": 34
        }
      },
      "source": [
        "type(train)"
      ],
      "execution_count": 0,
      "outputs": [
        {
          "output_type": "execute_result",
          "data": {
            "text/plain": [
              "keras.preprocessing.image.DirectoryIterator"
            ]
          },
          "metadata": {
            "tags": []
          },
          "execution_count": 11
        }
      ]
    },
    {
      "cell_type": "code",
      "metadata": {
        "id": "P-cimamMW9qZ",
        "colab_type": "code",
        "colab": {}
      },
      "source": [
        "#Implement CNN model for classifing our dataset "
      ],
      "execution_count": 0,
      "outputs": []
    },
    {
      "cell_type": "code",
      "metadata": {
        "id": "J0XQGGDSXJvd",
        "colab_type": "code",
        "colab": {}
      },
      "source": [
        "from keras.models import Sequential \n",
        "from keras.layers import Conv2D, MaxPooling2D, Activation, Dropout, Flatten, Dense "
      ],
      "execution_count": 0,
      "outputs": []
    },
    {
      "cell_type": "code",
      "metadata": {
        "id": "iI3-ucH9gfuY",
        "colab_type": "code",
        "colab": {}
      },
      "source": [
        "def model():\n",
        "\n",
        "  model = Sequential()\n",
        "  model.add(Conv2D(32, (3,3), input_shape=(150,150, 3)))\n",
        "  model.add(Activation('relu'))\n",
        "  model.add(MaxPooling2D(pool_size=(2,2)))\n",
        "\n",
        "  model.add(Conv2D(32,(3,3)))\n",
        "  model.add(Activation('relu'))\n",
        "  model.add(MaxPooling2D(pool_size=(2,2)))\n",
        "\n",
        "  model.add(Conv2D(64,(3,3)))\n",
        "  model.add(Activation('relu'))\n",
        "  model.add(MaxPooling2D(pool_size=(2,2)))\n",
        "\n",
        "  model.add(Flatten())\n",
        "  model.add(Dense(64))\n",
        "  model.add(Activation('relu'))\n",
        "  model.add(Dropout(0.2))\n",
        "  model.add(Dense(1))\n",
        "  model.add(Activation('sigmoid'))\n",
        "  \n",
        "  model.summary()\n",
        "  \n",
        "  return model"
      ],
      "execution_count": 0,
      "outputs": []
    },
    {
      "cell_type": "code",
      "metadata": {
        "id": "3vZsaX7wstol",
        "colab_type": "code",
        "outputId": "d74891af-f2a3-4305-b8b0-f452f3e7abd3",
        "colab": {
          "base_uri": "https://localhost:8080/",
          "height": 663
        }
      },
      "source": [
        "my_model = model()"
      ],
      "execution_count": 0,
      "outputs": [
        {
          "output_type": "stream",
          "text": [
            "Model: \"sequential_1\"\n",
            "_________________________________________________________________\n",
            "Layer (type)                 Output Shape              Param #   \n",
            "=================================================================\n",
            "conv2d_1 (Conv2D)            (None, 148, 148, 32)      896       \n",
            "_________________________________________________________________\n",
            "activation_1 (Activation)    (None, 148, 148, 32)      0         \n",
            "_________________________________________________________________\n",
            "max_pooling2d_1 (MaxPooling2 (None, 74, 74, 32)        0         \n",
            "_________________________________________________________________\n",
            "conv2d_2 (Conv2D)            (None, 72, 72, 32)        9248      \n",
            "_________________________________________________________________\n",
            "activation_2 (Activation)    (None, 72, 72, 32)        0         \n",
            "_________________________________________________________________\n",
            "max_pooling2d_2 (MaxPooling2 (None, 36, 36, 32)        0         \n",
            "_________________________________________________________________\n",
            "conv2d_3 (Conv2D)            (None, 34, 34, 64)        18496     \n",
            "_________________________________________________________________\n",
            "activation_3 (Activation)    (None, 34, 34, 64)        0         \n",
            "_________________________________________________________________\n",
            "max_pooling2d_3 (MaxPooling2 (None, 17, 17, 64)        0         \n",
            "_________________________________________________________________\n",
            "flatten_1 (Flatten)          (None, 18496)             0         \n",
            "_________________________________________________________________\n",
            "dense_1 (Dense)              (None, 64)                1183808   \n",
            "_________________________________________________________________\n",
            "activation_4 (Activation)    (None, 64)                0         \n",
            "_________________________________________________________________\n",
            "dropout_1 (Dropout)          (None, 64)                0         \n",
            "_________________________________________________________________\n",
            "dense_2 (Dense)              (None, 1)                 65        \n",
            "_________________________________________________________________\n",
            "activation_5 (Activation)    (None, 1)                 0         \n",
            "=================================================================\n",
            "Total params: 1,212,513\n",
            "Trainable params: 1,212,513\n",
            "Non-trainable params: 0\n",
            "_________________________________________________________________\n"
          ],
          "name": "stdout"
        }
      ]
    },
    {
      "cell_type": "code",
      "metadata": {
        "id": "Di6alQtKupnF",
        "colab_type": "code",
        "colab": {}
      },
      "source": [
        "my_model.compile(optimizer = 'rmsprop', loss= 'binary_crossentropy', metrics = ['accuracy'])"
      ],
      "execution_count": 0,
      "outputs": []
    },
    {
      "cell_type": "code",
      "metadata": {
        "id": "6Sr8xxmL641P",
        "colab_type": "code",
        "colab": {}
      },
      "source": [
        "batch_size =32"
      ],
      "execution_count": 0,
      "outputs": []
    },
    {
      "cell_type": "code",
      "metadata": {
        "id": "Ag_66d23cjDA",
        "colab_type": "code",
        "colab": {}
      },
      "source": [
        "modele_file = '/content/drive/My Drive/Final_Project/Models/saved_model/model1.h5'"
      ],
      "execution_count": 0,
      "outputs": []
    },
    {
      "cell_type": "code",
      "metadata": {
        "id": "zRnQ3mYV4SFP",
        "colab_type": "code",
        "outputId": "c6e24c12-c234-4d82-a4aa-5f323fc13f65",
        "colab": {
          "base_uri": "https://localhost:8080/",
          "height": 1000
        }
      },
      "source": [
        "history =my_model.fit_generator(train, steps_per_epoch=2000// batch_size,\n",
        "                       epochs=50,\n",
        "                       validation_data= test,\n",
        "                       validation_steps = 800// batch_size)\n",
        "import pickle \n",
        "with open(modele_file, 'wb') as file1:\n",
        "  pickle.dump(my_model, file1)"
      ],
      "execution_count": 0,
      "outputs": [
        {
          "output_type": "stream",
          "text": [
            "Epoch 1/50\n",
            "62/62 [==============================] - 13s 208ms/step - loss: 0.4385 - accuracy: 0.8730 - val_loss: 0.6052 - val_accuracy: 0.8925\n",
            "Epoch 2/50\n",
            "62/62 [==============================] - 12s 190ms/step - loss: 0.3220 - accuracy: 0.8740 - val_loss: 0.4332 - val_accuracy: 0.8575\n",
            "Epoch 3/50\n",
            "62/62 [==============================] - 13s 202ms/step - loss: 0.3278 - accuracy: 0.8645 - val_loss: 0.2314 - val_accuracy: 0.8375\n",
            "Epoch 4/50\n",
            "62/62 [==============================] - 13s 217ms/step - loss: 0.3249 - accuracy: 0.8760 - val_loss: 0.4033 - val_accuracy: 0.8900\n",
            "Epoch 5/50\n",
            "62/62 [==============================] - 12s 186ms/step - loss: 0.4350 - accuracy: 0.8669 - val_loss: 0.1463 - val_accuracy: 0.8283\n",
            "Epoch 6/50\n",
            "62/62 [==============================] - 12s 195ms/step - loss: 0.3190 - accuracy: 0.8868 - val_loss: 0.0378 - val_accuracy: 0.9075\n",
            "Epoch 7/50\n",
            "62/62 [==============================] - 12s 188ms/step - loss: 0.3331 - accuracy: 0.8746 - val_loss: 0.2163 - val_accuracy: 0.8550\n",
            "Epoch 8/50\n",
            "62/62 [==============================] - 12s 189ms/step - loss: 0.3363 - accuracy: 0.8649 - val_loss: 0.7421 - val_accuracy: 0.7775\n",
            "Epoch 9/50\n",
            "62/62 [==============================] - 12s 189ms/step - loss: 0.3612 - accuracy: 0.8700 - val_loss: 0.2606 - val_accuracy: 0.9075\n",
            "Epoch 10/50\n",
            "62/62 [==============================] - 12s 187ms/step - loss: 0.3370 - accuracy: 0.8800 - val_loss: 0.3830 - val_accuracy: 0.8611\n",
            "Epoch 11/50\n",
            "62/62 [==============================] - 11s 185ms/step - loss: 0.3307 - accuracy: 0.8679 - val_loss: 0.2724 - val_accuracy: 0.8750\n",
            "Epoch 12/50\n",
            "62/62 [==============================] - 12s 189ms/step - loss: 0.3562 - accuracy: 0.8659 - val_loss: 0.0854 - val_accuracy: 0.9175\n",
            "Epoch 13/50\n",
            "62/62 [==============================] - 12s 188ms/step - loss: 0.3084 - accuracy: 0.8898 - val_loss: 0.8123 - val_accuracy: 0.8900\n",
            "Epoch 14/50\n",
            "62/62 [==============================] - 12s 186ms/step - loss: 0.3010 - accuracy: 0.8878 - val_loss: 0.1025 - val_accuracy: 0.9100\n",
            "Epoch 15/50\n",
            "62/62 [==============================] - 12s 199ms/step - loss: 0.3571 - accuracy: 0.8720 - val_loss: 0.5850 - val_accuracy: 0.8712\n",
            "Epoch 16/50\n",
            "62/62 [==============================] - 12s 190ms/step - loss: 0.3379 - accuracy: 0.8629 - val_loss: 0.3197 - val_accuracy: 0.8100\n",
            "Epoch 17/50\n",
            "62/62 [==============================] - 11s 184ms/step - loss: 0.2981 - accuracy: 0.8847 - val_loss: 0.0229 - val_accuracy: 0.8975\n",
            "Epoch 18/50\n",
            "62/62 [==============================] - 12s 191ms/step - loss: 0.3374 - accuracy: 0.8841 - val_loss: 0.4517 - val_accuracy: 0.8250\n",
            "Epoch 19/50\n",
            "62/62 [==============================] - 12s 193ms/step - loss: 0.3629 - accuracy: 0.8649 - val_loss: 0.2784 - val_accuracy: 0.8308\n",
            "Epoch 20/50\n",
            "62/62 [==============================] - 12s 192ms/step - loss: 0.3271 - accuracy: 0.8750 - val_loss: 0.1862 - val_accuracy: 0.8925\n",
            "Epoch 21/50\n",
            "62/62 [==============================] - 12s 193ms/step - loss: 0.2934 - accuracy: 0.8891 - val_loss: 0.5544 - val_accuracy: 0.7675\n",
            "Epoch 22/50\n",
            "62/62 [==============================] - 11s 182ms/step - loss: 0.3319 - accuracy: 0.8655 - val_loss: 0.3610 - val_accuracy: 0.8375\n",
            "Epoch 23/50\n",
            "62/62 [==============================] - 12s 196ms/step - loss: 0.3216 - accuracy: 0.8730 - val_loss: 0.3331 - val_accuracy: 0.8375\n",
            "Epoch 24/50\n",
            "62/62 [==============================] - 12s 198ms/step - loss: 0.3020 - accuracy: 0.8810 - val_loss: 0.0688 - val_accuracy: 0.8712\n",
            "Epoch 25/50\n",
            "62/62 [==============================] - 11s 178ms/step - loss: 0.3627 - accuracy: 0.8686 - val_loss: 1.8901 - val_accuracy: 0.8125\n",
            "Epoch 26/50\n",
            "62/62 [==============================] - 12s 191ms/step - loss: 0.3214 - accuracy: 0.8770 - val_loss: 0.1327 - val_accuracy: 0.8925\n",
            "Epoch 27/50\n",
            "62/62 [==============================] - 12s 188ms/step - loss: 0.3119 - accuracy: 0.8891 - val_loss: 0.2344 - val_accuracy: 0.9250\n",
            "Epoch 28/50\n",
            "62/62 [==============================] - 12s 190ms/step - loss: 0.3533 - accuracy: 0.8756 - val_loss: 0.3119 - val_accuracy: 0.8775\n",
            "Epoch 29/50\n",
            "62/62 [==============================] - 12s 190ms/step - loss: 0.3540 - accuracy: 0.8669 - val_loss: 0.2577 - val_accuracy: 0.8889\n",
            "Epoch 30/50\n",
            "62/62 [==============================] - 12s 196ms/step - loss: 0.3195 - accuracy: 0.8790 - val_loss: 0.2113 - val_accuracy: 0.8750\n",
            "Epoch 31/50\n",
            "62/62 [==============================] - 12s 196ms/step - loss: 0.3440 - accuracy: 0.8716 - val_loss: 2.6954 - val_accuracy: 0.8225\n",
            "Epoch 32/50\n",
            "62/62 [==============================] - 11s 184ms/step - loss: 0.2991 - accuracy: 0.8972 - val_loss: 0.3546 - val_accuracy: 0.9300\n",
            "Epoch 33/50\n",
            "62/62 [==============================] - 11s 184ms/step - loss: 0.3694 - accuracy: 0.8599 - val_loss: 0.3692 - val_accuracy: 0.8650\n",
            "Epoch 34/50\n",
            "62/62 [==============================] - 13s 213ms/step - loss: 0.3382 - accuracy: 0.8710 - val_loss: 0.5696 - val_accuracy: 0.8965\n",
            "Epoch 35/50\n",
            "62/62 [==============================] - 11s 184ms/step - loss: 0.2925 - accuracy: 0.8938 - val_loss: 0.3596 - val_accuracy: 0.8325\n",
            "Epoch 36/50\n",
            "62/62 [==============================] - 11s 180ms/step - loss: 0.3312 - accuracy: 0.8649 - val_loss: 0.3666 - val_accuracy: 0.9025\n",
            "Epoch 37/50\n",
            "62/62 [==============================] - 12s 189ms/step - loss: 0.3327 - accuracy: 0.8696 - val_loss: 0.8159 - val_accuracy: 0.8650\n",
            "Epoch 38/50\n",
            "62/62 [==============================] - 12s 187ms/step - loss: 0.3335 - accuracy: 0.8851 - val_loss: 0.3653 - val_accuracy: 0.8813\n",
            "Epoch 39/50\n",
            "62/62 [==============================] - 12s 186ms/step - loss: 0.3245 - accuracy: 0.8720 - val_loss: 0.0264 - val_accuracy: 0.9350\n",
            "Epoch 40/50\n",
            "62/62 [==============================] - 11s 184ms/step - loss: 0.3425 - accuracy: 0.8629 - val_loss: 0.4473 - val_accuracy: 0.8200\n",
            "Epoch 41/50\n",
            "62/62 [==============================] - 12s 194ms/step - loss: 0.3588 - accuracy: 0.8554 - val_loss: 0.3109 - val_accuracy: 0.7750\n",
            "Epoch 42/50\n",
            "62/62 [==============================] - 12s 193ms/step - loss: 0.3455 - accuracy: 0.8645 - val_loss: 0.0770 - val_accuracy: 0.9225\n",
            "Epoch 43/50\n",
            "62/62 [==============================] - 12s 186ms/step - loss: 0.2969 - accuracy: 0.8821 - val_loss: 0.3282 - val_accuracy: 0.8409\n",
            "Epoch 44/50\n",
            "62/62 [==============================] - 12s 191ms/step - loss: 0.3361 - accuracy: 0.8690 - val_loss: 0.2258 - val_accuracy: 0.8675\n",
            "Epoch 45/50\n",
            "62/62 [==============================] - 12s 192ms/step - loss: 0.3144 - accuracy: 0.8797 - val_loss: 0.7296 - val_accuracy: 0.9075\n",
            "Epoch 46/50\n",
            "62/62 [==============================] - 11s 183ms/step - loss: 0.3347 - accuracy: 0.8790 - val_loss: 0.3890 - val_accuracy: 0.9050\n",
            "Epoch 47/50\n",
            "62/62 [==============================] - 12s 192ms/step - loss: 0.3123 - accuracy: 0.8841 - val_loss: 2.5266 - val_accuracy: 0.7700\n",
            "Epoch 48/50\n",
            "62/62 [==============================] - 12s 199ms/step - loss: 0.3220 - accuracy: 0.8952 - val_loss: 0.1012 - val_accuracy: 0.8737\n",
            "Epoch 49/50\n",
            "62/62 [==============================] - 11s 182ms/step - loss: 0.4059 - accuracy: 0.8649 - val_loss: 0.2815 - val_accuracy: 0.9075\n",
            "Epoch 50/50\n",
            "62/62 [==============================] - 12s 186ms/step - loss: 0.2759 - accuracy: 0.8948 - val_loss: 0.0536 - val_accuracy: 0.9000\n"
          ],
          "name": "stdout"
        }
      ]
    },
    {
      "cell_type": "markdown",
      "metadata": {
        "id": "BSUjsyLuN8yv",
        "colab_type": "text"
      },
      "source": [
        "Ploting Validation accuracy and loss validation "
      ]
    },
    {
      "cell_type": "code",
      "metadata": {
        "id": "h6gYK6hTT81S",
        "colab_type": "code",
        "colab": {}
      },
      "source": [
        "import matplotlib.pyplot as plt\n"
      ],
      "execution_count": 0,
      "outputs": []
    },
    {
      "cell_type": "code",
      "metadata": {
        "id": "lCPC_gSL6hba",
        "colab_type": "code",
        "outputId": "0e141e55-73c0-40db-adcc-f5f9dfa8c413",
        "colab": {
          "base_uri": "https://localhost:8080/",
          "height": 545
        }
      },
      "source": [
        "def plot_training(history):\n",
        "  acc = history.history['accuracy']\n",
        "  val_acc = history.history['val_accuracy']\n",
        "  loss = history.history['loss']\n",
        "  val_loss = history.history['val_loss']\n",
        "  epochs = range(len(acc))\n",
        "  \n",
        "  plt.plot(epochs, acc, 'r.')\n",
        "  plt.plot(epochs, val_acc, 'r')\n",
        "  plt.title('Training and validation accuracy')\n",
        "  \n",
        "  plt.figure()\n",
        "  plt.plot(epochs, loss, 'r.')\n",
        "  plt.plot(epochs, val_loss, 'r-')\n",
        "  plt.title('Training and validation loss')\n",
        "  plt.show()\n",
        "  \n",
        "plot_training(history)"
      ],
      "execution_count": 0,
      "outputs": [
        {
          "output_type": "display_data",
          "data": {
            "image/png": "[encoded data removed]",
            "text/plain": [
              "<Figure size 432x288 with 1 Axes>"
            ]
          },
          "metadata": {
            "tags": [],
            "needs_background": "light"
          }
        },
        {
          "output_type": "display_data",
          "data": {
            "image/png": "[encoded data removed]",
            "text/plain": [
              "<Figure size 432x288 with 1 Axes>"
            ]
          },
          "metadata": {
            "tags": [],
            "needs_background": "light"
          }
        }
      ]
    },
    {
      "cell_type": "markdown",
      "metadata": {
        "id": "ThCevHr_bBap",
        "colab_type": "text"
      },
      "source": [
        "**II. Model 2 Dammage Classification **\n",
        "\n",
        "---\n",
        "\n"
      ]
    },
    {
      "cell_type": "code",
      "metadata": {
        "id": "1wvDmRRtMzwh",
        "colab_type": "code",
        "colab": {}
      },
      "source": [
        "full_dataset = '/content/drive/My Drive/Final_Project/raw/'\n",
        "from keras.applications.vgg16 import preprocess_input"
      ],
      "execution_count": 0,
      "outputs": []
    },
    {
      "cell_type": "code",
      "metadata": {
        "id": "DzYooWPubgnm",
        "colab_type": "code",
        "outputId": "af2b0bb7-42dd-421f-ca4b-cf7146ed707d",
        "colab": {
          "base_uri": "https://localhost:8080/",
          "height": 51
        }
      },
      "source": [
        "#loading dataset\n",
        "image_generator = ImageDataGenerator(preprocessing_function=preprocess_input,\n",
        "    rotation_range=40,\n",
        "    width_shift_range=0.2,\n",
        "    height_shift_range=0.2,\n",
        "    shear_range=0.2,\n",
        "    zoom_range=0.2,\n",
        "    horizontal_flip=True,\n",
        "    fill_mode='nearest', validation_split=0.2)    \n",
        "\n",
        "train_dataset = image_generator.flow_from_directory(batch_size=32,\n",
        "                                                 directory=full_dataset,\n",
        "                                                 shuffle=True,\n",
        "                                                 target_size=(150, 150), \n",
        "                                                 subset=\"training\",\n",
        "                                                 class_mode='categorical')\n",
        "\n",
        "test_dataset = image_generator.flow_from_directory(batch_size=32,\n",
        "                                                 directory=full_dataset,\n",
        "                                                 shuffle=True,\n",
        "                                                 target_size=(150, 150), \n",
        "                                                 subset=\"validation\",\n",
        "                                                 class_mode='categorical')"
      ],
      "execution_count": 0,
      "outputs": [
        {
          "output_type": "stream",
          "text": [
            "Found 1369 images belonging to 8 classes.\n",
            "Found 338 images belonging to 8 classes.\n"
          ],
          "name": "stdout"
        }
      ]
    },
    {
      "cell_type": "code",
      "metadata": {
        "id": "EE8iHXAKcEO-",
        "colab_type": "code",
        "colab": {}
      },
      "source": [
        "labels = ['bumper_dent', 'bumper_scratch', 'door_dent', 'door_scratch',\n",
        "          'glass_shatter', 'head_lamp', 'tail_lamp', 'Unknow']"
      ],
      "execution_count": 0,
      "outputs": []
    },
    {
      "cell_type": "code",
      "metadata": {
        "id": "Ha2GwFrlcQv1",
        "colab_type": "code",
        "outputId": "17733861-2c72-4555-e5c1-1a5d3a965e25",
        "colab": {
          "base_uri": "https://localhost:8080/",
          "height": 34
        }
      },
      "source": [
        "len(labels)"
      ],
      "execution_count": 0,
      "outputs": [
        {
          "output_type": "execute_result",
          "data": {
            "text/plain": [
              "8"
            ]
          },
          "metadata": {
            "tags": []
          },
          "execution_count": 51
        }
      ]
    },
    {
      "cell_type": "code",
      "metadata": {
        "id": "5KLasTLKyToR",
        "colab_type": "code",
        "colab": {}
      },
      "source": [
        "from keras.models import Model\n",
        "from keras.layers import  GlobalAveragePooling2D\n",
        "from keras.applications.inception_v3 import InceptionV3"
      ],
      "execution_count": 0,
      "outputs": []
    },
    {
      "cell_type": "code",
      "metadata": {
        "id": "su4jAtHsAsdk",
        "colab_type": "code",
        "colab": {}
      },
      "source": [
        "\n",
        "from keras.applications.vgg16 import VGG16"
      ],
      "execution_count": 0,
      "outputs": []
    },
    {
      "cell_type": "code",
      "metadata": {
        "id": "jVjl65wFT1WO",
        "colab_type": "code",
        "outputId": "7fb98e21-7fb3-4434-9e5b-35e414b97a39",
        "colab": {
          "base_uri": "https://localhost:8080/",
          "height": 921
        }
      },
      "source": [
        "# add preprocessing layer to the front of VGG\n",
        "vgg = VGG16(input_shape=(150,150,3), weights='imagenet', include_top=False)\n",
        "\n",
        "# don't train existing weights\n",
        "for layer in vgg.layers:\n",
        "    layer.trainable = False\n",
        "\n",
        "# our layers\n",
        "x = Flatten()(vgg.output)\n",
        "#x = Dense(64, activation='relu')(x)\n",
        "prediction = Dense(len(labels), activation='softmax')(x)\n",
        "\n",
        "\n",
        "# create a model object\n",
        "model = Model(inputs=vgg.input, outputs=prediction)\n",
        "\n",
        "# view the structure of the model\n",
        "model.summary()"
      ],
      "execution_count": 0,
      "outputs": [
        {
          "output_type": "stream",
          "text": [
            "Downloading data from https://github.com/fchollet/deep-learning-models/releases/download/v0.1/vgg16_weights_tf_dim_ordering_tf_kernels_notop.h5\n",
            "58892288/58889256 [==============================] - 1s 0us/step\n",
            "Model: \"model_1\"\n",
            "_________________________________________________________________\n",
            "Layer (type)                 Output Shape              Param #   \n",
            "=================================================================\n",
            "input_1 (InputLayer)         (None, 150, 150, 3)       0         \n",
            "_________________________________________________________________\n",
            "block1_conv1 (Conv2D)        (None, 150, 150, 64)      1792      \n",
            "_________________________________________________________________\n",
            "block1_conv2 (Conv2D)        (None, 150, 150, 64)      36928     \n",
            "_________________________________________________________________\n",
            "block1_pool (MaxPooling2D)   (None, 75, 75, 64)        0         \n",
            "_________________________________________________________________\n",
            "block2_conv1 (Conv2D)        (None, 75, 75, 128)       73856     \n",
            "_________________________________________________________________\n",
            "block2_conv2 (Conv2D)        (None, 75, 75, 128)       147584    \n",
            "_________________________________________________________________\n",
            "block2_pool (MaxPooling2D)   (None, 37, 37, 128)       0         \n",
            "_________________________________________________________________\n",
            "block3_conv1 (Conv2D)        (None, 37, 37, 256)       295168    \n",
            "_________________________________________________________________\n",
            "block3_conv2 (Conv2D)        (None, 37, 37, 256)       590080    \n",
            "_________________________________________________________________\n",
            "block3_conv3 (Conv2D)        (None, 37, 37, 256)       590080    \n",
            "_________________________________________________________________\n",
            "block3_pool (MaxPooling2D)   (None, 18, 18, 256)       0         \n",
            "_________________________________________________________________\n",
            "block4_conv1 (Conv2D)        (None, 18, 18, 512)       1180160   \n",
            "_________________________________________________________________\n",
            "block4_conv2 (Conv2D)        (None, 18, 18, 512)       2359808   \n",
            "_________________________________________________________________\n",
            "block4_conv3 (Conv2D)        (None, 18, 18, 512)       2359808   \n",
            "_________________________________________________________________\n",
            "block4_pool (MaxPooling2D)   (None, 9, 9, 512)         0         \n",
            "_________________________________________________________________\n",
            "block5_conv1 (Conv2D)        (None, 9, 9, 512)         2359808   \n",
            "_________________________________________________________________\n",
            "block5_conv2 (Conv2D)        (None, 9, 9, 512)         2359808   \n",
            "_________________________________________________________________\n",
            "block5_conv3 (Conv2D)        (None, 9, 9, 512)         2359808   \n",
            "_________________________________________________________________\n",
            "block5_pool (MaxPooling2D)   (None, 4, 4, 512)         0         \n",
            "_________________________________________________________________\n",
            "flatten_2 (Flatten)          (None, 8192)              0         \n",
            "_________________________________________________________________\n",
            "dense_3 (Dense)              (None, 8)                 65544     \n",
            "=================================================================\n",
            "Total params: 14,780,232\n",
            "Trainable params: 65,544\n",
            "Non-trainable params: 14,714,688\n",
            "_________________________________________________________________\n"
          ],
          "name": "stdout"
        }
      ]
    },
    {
      "cell_type": "code",
      "metadata": {
        "id": "uaAL-CvQuY1t",
        "colab_type": "code",
        "colab": {}
      },
      "source": [
        "model.compile(optimizer =tf.keras.optimizers.Adam(), loss=tf.keras.losses.CategoricalCrossentropy(), metrics=['accuracy'])"
      ],
      "execution_count": 0,
      "outputs": []
    },
    {
      "cell_type": "code",
      "metadata": {
        "id": "7Q0Pj9vZe2cg",
        "colab_type": "code",
        "colab": {}
      },
      "source": [
        "model.fit(x = train_dataset, validation_data=test_dataset, epochs=30)"
      ],
      "execution_count": 0,
      "outputs": []
    },
    {
      "cell_type": "markdown",
      "metadata": {
        "id": "XecIWXiTtvAq",
        "colab_type": "text"
      },
      "source": [
        "Fine Tuning"
      ]
    },
    {
      "cell_type": "code",
      "metadata": {
        "id": "yCPI9zuocnVF",
        "colab_type": "code",
        "colab": {}
      },
      "source": [
        "from keras.optimizers import SGD\n",
        "MODEL_FILE = '/content/drive/My Drive/Final_Project/Models/saved_model/model2.h5'\n"
      ],
      "execution_count": 0,
      "outputs": []
    },
    {
      "cell_type": "code",
      "metadata": {
        "id": "n4W488-VgY5V",
        "colab_type": "code",
        "colab": {}
      },
      "source": [
        "\n",
        "for layers in model.layers:\n",
        "  layers.trainable = False\n",
        "\n",
        "opt = SGD(lr=1e-4, momentum=0.9)\n",
        "model.compile(loss=\"categorical_crossentropy\", optimizer=opt,\n",
        "metrics=[\"accuracy\"])  \n",
        "\n",
        "epochs = 20\n",
        "model.fit(train_dataset, epochs=epochs, validation_data=test_dataset)\n",
        "with open(MODEL_FILE, 'wb') as file2:\n",
        "  pickle.dump(model, file2)"
      ],
      "execution_count": 0,
      "outputs": []
    },
    {
      "cell_type": "code",
      "metadata": {
        "id": "odX934q8t9oQ",
        "colab_type": "code",
        "colab": {}
      },
      "source": [
        "\n",
        "def prediction(img, model1, model2):\n",
        "   x = image.img_to_array(img)\n",
        "   x = np.expand_dims(x, axis=0)\n",
        "   x = preprocess_input(x)\n",
        "   pred1 = model1.predict(x)\n",
        "   if pred1[0][0] < 0.7:\n",
        "     pred2= model2.predict(x)\n",
        "     return pred2[0].argmax(), pred1\n",
        "   else: \n",
        "     return('Aucun dommage detecter sur votre vehicul')\n"
      ],
      "execution_count": 0,
      "outputs": []
    },
    {
      "cell_type": "code",
      "metadata": {
        "id": "cS1s2xqpxOCY",
        "colab_type": "code",
        "colab": {}
      },
      "source": [
        "from tensorflow.keras.preprocessing import image\n",
        "from keras.models import load_model\n",
        "img =image.load_img('/content/drive/My Drive/Final_Project/dataset2/validation/00-damage/0084.JPEG',  target_size=(150,150))"
      ],
      "execution_count": 0,
      "outputs": []
    },
    {
      "cell_type": "code",
      "metadata": {
        "id": "0kge9rhwokaP",
        "colab_type": "code",
        "outputId": "a94b113a-22bd-48f5-8ddc-36bdf5ec147c",
        "colab": {
          "base_uri": "https://localhost:8080/",
          "height": 163
        }
      },
      "source": [
        "train.labels.shape"
      ],
      "execution_count": 0,
      "outputs": [
        {
          "output_type": "error",
          "ename": "NameError",
          "evalue": "ignored",
          "traceback": [
            "\u001b[0;31m---------------------------------------------------------------------------\u001b[0m",
            "\u001b[0;31mNameError\u001b[0m                                 Traceback (most recent call last)",
            "\u001b[0;32m<ipython-input-3-cb41c5982e47>\u001b[0m in \u001b[0;36m<module>\u001b[0;34m()\u001b[0m\n\u001b[0;32m----> 1\u001b[0;31m \u001b[0mtrain\u001b[0m\u001b[0;34m.\u001b[0m\u001b[0mlabels\u001b[0m\u001b[0;34m.\u001b[0m\u001b[0mshape\u001b[0m\u001b[0;34m\u001b[0m\u001b[0;34m\u001b[0m\u001b[0m\n\u001b[0m",
            "\u001b[0;31mNameError\u001b[0m: name 'train' is not defined"
          ]
        }
      ]
    },
    {
      "cell_type": "code",
      "metadata": {
        "id": "EaK1EfxTxvz2",
        "colab_type": "code",
        "outputId": "3688b8e8-81e9-4ee4-c257-858271e997db",
        "colab": {
          "base_uri": "https://localhost:8080/",
          "height": 197
        }
      },
      "source": [
        "model1 = load_model(modele_file)\n",
        "model2 = load_model(MODEL_FILE)\n",
        "pred, x = prediction(img,model1, model2)"
      ],
      "execution_count": 0,
      "outputs": [
        {
          "output_type": "error",
          "ename": "ValueError",
          "evalue": "ignored",
          "traceback": [
            "\u001b[0;31m---------------------------------------------------------------------------\u001b[0m",
            "\u001b[0;31mValueError\u001b[0m                                Traceback (most recent call last)",
            "\u001b[0;32m<ipython-input-38-ba7a284fb5ee>\u001b[0m in \u001b[0;36m<module>\u001b[0;34m()\u001b[0m\n\u001b[1;32m      1\u001b[0m \u001b[0mmodel1\u001b[0m \u001b[0;34m=\u001b[0m \u001b[0mload_model\u001b[0m\u001b[0;34m(\u001b[0m\u001b[0mmodele_file\u001b[0m\u001b[0;34m)\u001b[0m\u001b[0;34m\u001b[0m\u001b[0;34m\u001b[0m\u001b[0m\n\u001b[1;32m      2\u001b[0m \u001b[0mmodel2\u001b[0m \u001b[0;34m=\u001b[0m \u001b[0mload_model\u001b[0m\u001b[0;34m(\u001b[0m\u001b[0mMODEL_FILE\u001b[0m\u001b[0;34m)\u001b[0m\u001b[0;34m\u001b[0m\u001b[0;34m\u001b[0m\u001b[0m\n\u001b[0;32m----> 3\u001b[0;31m \u001b[0mpred\u001b[0m\u001b[0;34m,\u001b[0m \u001b[0mx\u001b[0m \u001b[0;34m=\u001b[0m \u001b[0mprediction\u001b[0m\u001b[0;34m(\u001b[0m\u001b[0mimg\u001b[0m\u001b[0;34m,\u001b[0m\u001b[0mmodel1\u001b[0m\u001b[0;34m,\u001b[0m \u001b[0mmodel2\u001b[0m\u001b[0;34m)\u001b[0m\u001b[0;34m\u001b[0m\u001b[0;34m\u001b[0m\u001b[0m\n\u001b[0m",
            "\u001b[0;31mValueError\u001b[0m: too many values to unpack (expected 2)"
          ]
        }
      ]
    }
  ]
}